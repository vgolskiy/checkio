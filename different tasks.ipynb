{
 "cells": [
  {
   "cell_type": "code",
   "execution_count": 3,
   "metadata": {},
   "outputs": [
    {
     "data": {
      "text/plain": [
       "'Hi. My name is Alex and I’m 32 years old'"
      ]
     },
     "execution_count": 3,
     "metadata": {},
     "output_type": "execute_result"
    }
   ],
   "source": [
    "say_hi = \"Hi. My name is {} and I’m {} years old\".format\n",
    "say_hi(\"Alex\", 32)"
   ]
  },
  {
   "cell_type": "code",
   "execution_count": 9,
   "metadata": {},
   "outputs": [
    {
     "data": {
      "text/plain": [
       "'Welcome to New York.'"
      ]
     },
     "execution_count": 9,
     "metadata": {},
     "output_type": "execute_result"
    }
   ],
   "source": [
    "text = \"welcome to New York\"\n",
    "\n",
    "text = (text[:1].upper() + text[1:]).rstrip(\".!?\") + \".\"\n",
    "\n",
    "text"
   ]
  },
  {
   "cell_type": "code",
   "execution_count": 105,
   "metadata": {},
   "outputs": [
    {
     "data": {
      "text/plain": [
       "[[\"don't\"], ['Hello'], ['a'], ['greetings'], ['and'], ['hi'], ['Hello']]"
      ]
     },
     "execution_count": 105,
     "metadata": {},
     "output_type": "execute_result"
    }
   ],
   "source": [
    "import re\n",
    "\n",
    "text = [\"don't touch it\", \"Hello world\", \" a word \", \"greetings, friends\", \"... and so on ...\", \"hi\", \"Hello.World\"]\n",
    "pos = []\n",
    "\n",
    "for i in range(len(text)):\n",
    "    if re.match(r\"^\\w+['-]\", text[i]):\n",
    "        pos.append(re.findall(r\"^\\w+['-]\\w+\", text[i]))\n",
    "    else:\n",
    "        pos.append(re.findall(r\"^\\W*(\\w+)\\W*\", text[i]))\n",
    "\n",
    "pos"
   ]
  },
  {
   "cell_type": "code",
   "execution_count": 109,
   "metadata": {},
   "outputs": [
    {
     "data": {
      "text/plain": [
       "[\"don't\", 'Hello', 'a', 'greetings', 'and', 'hi', 'Hello']"
      ]
     },
     "execution_count": 109,
     "metadata": {},
     "output_type": "execute_result"
    }
   ],
   "source": [
    "import re\n",
    "\n",
    "text = [\"don't touch it\", \"Hello world\", \" a word \", \"greetings, friends\", \"... and so on ...\", \"hi\", \"Hello.World\"]\n",
    "pos = []\n",
    "\n",
    "for i in range(len(text)):\n",
    "    pos.append(re.search(\"([\\w']+)\", text[i]).group())\n",
    "    \n",
    "pos"
   ]
  },
  {
   "cell_type": "code",
   "execution_count": 116,
   "metadata": {},
   "outputs": [
    {
     "name": "stdout",
     "output_type": "stream",
     "text": [
      "3\n"
     ]
    }
   ],
   "source": [
    "print([pos for pos, char in enumerate('sims') if char == 's'][1])"
   ]
  },
  {
   "cell_type": "code",
   "execution_count": null,
   "metadata": {},
   "outputs": [],
   "source": [
    "def second_index(text: str, symbol: str) -> [int, None]:\n",
    "    try:\n",
    "        a = [pos for pos, char in enumerate(text) if char == symbol][1]\n",
    "    except:\n",
    "        a = None\n",
    "    return a "
   ]
  },
  {
   "cell_type": "code",
   "execution_count": 157,
   "metadata": {},
   "outputs": [
    {
     "data": {
      "text/plain": [
       "'apple'"
      ]
     },
     "execution_count": 157,
     "metadata": {},
     "output_type": "execute_result"
    }
   ],
   "source": [
    "import re\n",
    "\n",
    "text = 'What is >apple<'\n",
    "begin = '>'\n",
    "end = '<'\n",
    "\n",
    "if re.search('\\S', begin) and re.search(begin, text) and re.search(end, text): \n",
    "    begin2 = '\\\\' + '>'\n",
    "    end2 = '\\\\' + '<'\n",
    "    text = re.findall(begin2 +'(\\w+)' + end2, text)[0]\n",
    "\n",
    "text    "
   ]
  },
  {
   "cell_type": "code",
   "execution_count": 152,
   "metadata": {},
   "outputs": [
    {
     "data": {
      "text/plain": [
       "'My new site'"
      ]
     },
     "execution_count": 152,
     "metadata": {},
     "output_type": "execute_result"
    }
   ],
   "source": [
    "import re\n",
    "\n",
    "text = \"<head><title>My new site</title></head>\"\n",
    "begin = \"<title>\"\n",
    "end = \"</title>\"\n",
    "\n",
    "if re.match('<head>', text):\n",
    "    text = text.replace('/', '').replace('<head>', '')\n",
    "    text = text.replace(begin, '')\n",
    "\n",
    "text"
   ]
  },
  {
   "cell_type": "code",
   "execution_count": null,
   "metadata": {},
   "outputs": [],
   "source": [
    "    assert between_markers('What is >apple<', '>', '<') == \"apple\", \"One sym\"\n",
    "    assert between_markers(\"<head><title>My new site</title></head>\",\n",
    "                           \"<title>\", \"</title>\") == \"My new site\", \"HTML\"\n",
    "    assert between_markers('No[/b] hi', '[b]', '[/b]') == 'No', 'No opened'\n",
    "    assert between_markers('No [b]hi', '[b]', '[/b]') == 'hi', 'No close'\n",
    "    assert between_markers('No hi', '[b]', '[/b]') == 'No hi', 'No markers at all'\n",
    "    assert between_markers('No <hi>', '>', '<') == '', 'Wrong direction'"
   ]
  },
  {
   "cell_type": "code",
   "execution_count": 181,
   "metadata": {},
   "outputs": [
    {
     "ename": "IndexError",
     "evalue": "list index out of range",
     "output_type": "error",
     "traceback": [
      "\u001b[1;31m---------------------------------------------------------------------------\u001b[0m",
      "\u001b[1;31mIndexError\u001b[0m                                Traceback (most recent call last)",
      "\u001b[1;32m<ipython-input-181-e465c04ff874>\u001b[0m in \u001b[0;36m<module>\u001b[1;34m()\u001b[0m\n\u001b[0;32m      8\u001b[0m     \u001b[0mtext\u001b[0m \u001b[1;33m=\u001b[0m \u001b[0mtext\u001b[0m\u001b[1;33m.\u001b[0m\u001b[0msplit\u001b[0m\u001b[1;33m(\u001b[0m\u001b[0mend\u001b[0m\u001b[1;33m)\u001b[0m\u001b[1;33m[\u001b[0m\u001b[1;36m0\u001b[0m\u001b[1;33m]\u001b[0m\u001b[1;33m\u001b[0m\u001b[0m\n\u001b[0;32m      9\u001b[0m \u001b[1;32mif\u001b[0m \u001b[0mtext\u001b[0m\u001b[1;33m.\u001b[0m\u001b[0mfind\u001b[0m\u001b[1;33m(\u001b[0m\u001b[0mend\u001b[0m\u001b[1;33m)\u001b[0m \u001b[1;33m==\u001b[0m \u001b[1;33m-\u001b[0m\u001b[1;36m1\u001b[0m\u001b[1;33m:\u001b[0m\u001b[1;33m\u001b[0m\u001b[0m\n\u001b[1;32m---> 10\u001b[1;33m     \u001b[0mtext\u001b[0m \u001b[1;33m=\u001b[0m \u001b[0mtext\u001b[0m\u001b[1;33m.\u001b[0m\u001b[0msplit\u001b[0m\u001b[1;33m(\u001b[0m\u001b[0mbegin\u001b[0m\u001b[1;33m)\u001b[0m\u001b[1;33m[\u001b[0m\u001b[1;36m1\u001b[0m\u001b[1;33m]\u001b[0m\u001b[1;33m\u001b[0m\u001b[0m\n\u001b[0m\u001b[0;32m     11\u001b[0m \u001b[0mtext\u001b[0m\u001b[1;33m\u001b[0m\u001b[0m\n",
      "\u001b[1;31mIndexError\u001b[0m: list index out of range"
     ]
    }
   ],
   "source": [
    "import re\n",
    "\n",
    "text = 'No[/b] hi'\n",
    "begin = '[b]'\n",
    "end = '[/b]'\n",
    "\n",
    "if text.find(begin) == -1:\n",
    "    text = text.split(end)[0]\n",
    "if text.find(end) == -1:\n",
    "    text = text.split(begin)[1]\n",
    "text    "
   ]
  },
  {
   "cell_type": "code",
   "execution_count": 184,
   "metadata": {},
   "outputs": [
    {
     "data": {
      "text/plain": [
       "'apple'"
      ]
     },
     "execution_count": 184,
     "metadata": {},
     "output_type": "execute_result"
    }
   ],
   "source": [
    "text = 'What is >apple<'\n",
    "begin = '>'\n",
    "end = '<'\n",
    "\n",
    "if begin in text and end in text:\n",
    "        if text.index(begin) > text.index(end):\n",
    "            text = \"\"\n",
    "if end in text:\n",
    "        text = text[:text.index(end)]\n",
    "\n",
    "if begin in text:\n",
    "        text = text[text.index(begin)+len(begin):]\n",
    "        \n",
    "text"
   ]
  },
  {
   "cell_type": "code",
   "execution_count": 174,
   "metadata": {},
   "outputs": [
    {
     "name": "stdout",
     "output_type": "stream",
     "text": [
      "-1\n"
     ]
    }
   ],
   "source": [
    "def between_markers(text: str, begin: str, end: str) -> str:\n",
    "    if text.find(begin) == -1:\n",
    "        text = text.split(end)[0]\n",
    "    elif text.find(end) == -1:\n",
    "        text = text.split(begin)[1]\n",
    "    elif text.find(begin)< text.find(end):\n",
    "        text = text.split(end)[0]\n",
    "        text = text.split(begin)[1]\n",
    "    else: text = ''\n",
    "    return text"
   ]
  },
  {
   "cell_type": "code",
   "execution_count": 198,
   "metadata": {},
   "outputs": [
    {
     "data": {
      "text/plain": [
       "(390.2, ['ATX'])"
      ]
     },
     "execution_count": 198,
     "metadata": {},
     "output_type": "execute_result"
    }
   ],
   "source": [
    "def best_stock(my_dict = {'a': 1, 'b': 2, 'c': 3}):\n",
    "    max_value = max(my_dict.values())\n",
    "    max_key = [k for k, v in my_dict.items() if v == max_value]\n",
    "    return (max_value, max_key)\n",
    "            \n",
    "best_stock({'CAC': 10.0, 'ATX': 390.2, 'WIG': 1.2})"
   ]
  },
  {
   "cell_type": "code",
   "execution_count": 197,
   "metadata": {},
   "outputs": [
    {
     "data": {
      "text/plain": [
       "'ATX'"
      ]
     },
     "execution_count": 197,
     "metadata": {},
     "output_type": "execute_result"
    }
   ],
   "source": [
    "def best_stock(my_dict = {'a': 1, 'b': 2, 'c': 3}):\n",
    "    max_value = max(my_dict.values())\n",
    "    max_key = [k for k, v in my_dict.items() if v == max_value]\n",
    "    return max_key[0]\n",
    "            \n",
    "best_stock({'CAC': 10.0, 'ATX': 390.2, 'WIG': 1.2})"
   ]
  },
  {
   "cell_type": "code",
   "execution_count": 194,
   "metadata": {},
   "outputs": [
    {
     "data": {
      "text/plain": [
       "'ATX'"
      ]
     },
     "execution_count": 194,
     "metadata": {},
     "output_type": "execute_result"
    }
   ],
   "source": [
    "def best_stock(data):\n",
    "    return max(data, key=lambda k: data[k])\n",
    "\n",
    "best_stock({'CAC': 10.0, 'ATX': 390.2, 'WIG': 1.2})"
   ]
  },
  {
   "cell_type": "code",
   "execution_count": 216,
   "metadata": {},
   "outputs": [
    {
     "data": {
      "text/plain": [
       "{'i': 4, 'near': 1, 'three': 0, 'was': 3}"
      ]
     },
     "execution_count": 216,
     "metadata": {},
     "output_type": "execute_result"
    }
   ],
   "source": [
    "def popular_words(text: str, words: list):\n",
    "    qty = []\n",
    "    for i in range(len(words)):\n",
    "        qty.append(text.lower().count(words[i]))\n",
    "    dictionary = dict(zip(words, qty))\n",
    "    return dictionary\n",
    "\n",
    "popular_words('''\n",
    "When I was One\n",
    "I had just begun\n",
    "When I was Two\n",
    "I was nearly new\n",
    "''', ['i', 'was', 'three', 'near'])"
   ]
  },
  {
   "cell_type": "code",
   "execution_count": 332,
   "metadata": {},
   "outputs": [
    {
     "data": {
      "text/plain": [
       "{'i': 2, \"it's\": 1, 'ran': 1}"
      ]
     },
     "execution_count": 332,
     "metadata": {},
     "output_type": "execute_result"
    }
   ],
   "source": [
    "def popular_words(text: str, words: list):\n",
    "    import re\n",
    "    qty = []\n",
    "    text = ' ' + text + ' '\n",
    "    for i in range(len(words)):\n",
    "        qty.append(len(re.findall(re.compile('\\s' + words[i] + '\\s',re.IGNORECASE), text)))\n",
    "    dictionary = dict(zip(words, qty))\n",
    "    return dictionary\n",
    "\n",
    "popular_words('''\n",
    "When I was One\n",
    "I had just begun\n",
    "When I was Two\n",
    "I was nearly new\n",
    "''', ['i', 'was', 'three', 'near'])\n",
    "\n",
    "popular_words(\"\\nWhen I was One\\nI had just begun\\nWhen I was Two\\nI was nearly new\\n\", [\"one\",\"two\",\"three\"])\n",
    "\n",
    "popular_words(\"It's flying from somewhere\\nAs fast as it can\\nI couldn't keep up with it\\nNot if I ran\",[\"it's\",\"ran\",\"i\"])"
   ]
  },
  {
   "cell_type": "code",
   "execution_count": 331,
   "metadata": {},
   "outputs": [
    {
     "data": {
      "text/plain": [
       "{'one': 1, 'three': 0, 'two': 1}"
      ]
     },
     "execution_count": 331,
     "metadata": {},
     "output_type": "execute_result"
    }
   ],
   "source": [
    "def popular_words(text: str, words: list):\n",
    "    import re\n",
    "    qty = []\n",
    "    text = ' ' + re.sub('\\n', ' ', text) + ' '\n",
    "    for i in range(len(words)):\n",
    "        qty.append(len(re.findall(re.compile('\\s' + words[i] + '\\s',re.IGNORECASE), text)))\n",
    "    dictionary = dict(zip(words, qty))\n",
    "    return dictionary\n",
    "\n",
    "popular_words(\"It's flying from somewhere\\nAs fast as it can\\nI couldn't keep up with it\\nNot if I ran\",[\"it's\",\"ran\",\"i\"])\n",
    "\n",
    "popular_words(\"\\nWhen I was One\\nI had just begun\\nWhen I was Two\\nI was nearly new\\n\", [\"one\",\"two\",\"three\"])"
   ]
  },
  {
   "cell_type": "code",
   "execution_count": 333,
   "metadata": {},
   "outputs": [
    {
     "data": {
      "text/plain": [
       "{'i': 2, \"it's\": 1, 'ran': 1}"
      ]
     },
     "execution_count": 333,
     "metadata": {},
     "output_type": "execute_result"
    }
   ],
   "source": [
    "def popular_words(text, words):\n",
    "    lower_count = text.lower().split().count\n",
    "    return {word: lower_count(word) for word in words}\n",
    "\n",
    "popular_words(\"It's flying from somewhere\\nAs fast as it can\\nI couldn't keep up with it\\nNot if I ran\",[\"it's\",\"ran\",\"i\"])"
   ]
  },
  {
   "cell_type": "code",
   "execution_count": 73,
   "metadata": {},
   "outputs": [
    {
     "data": {
      "text/plain": [
       "[{'name': 'wine', 'price': 138}, {'name': 'bread', 'price': 100}]"
      ]
     },
     "execution_count": 73,
     "metadata": {},
     "output_type": "execute_result"
    }
   ],
   "source": [
    "PriceList = [\n",
    "    {\"name\": \"bread\", \"price\": 100},\n",
    "    {\"name\": \"wine\", \"price\": 138},\n",
    "    {\"name\": \"meat\", \"price\": 15},\n",
    "    {\"name\": \"water\", \"price\": 1}\n",
    "    ]\n",
    "\n",
    "def bigger_price(lines: int, PriceList: list):\n",
    "    for i in range(len(PriceList)-1):\n",
    "        for j in range(i+1, len(PriceList)):\n",
    "            if PriceList[i]['price'] < PriceList[j]['price']:\n",
    "                tmp = PriceList[i]\n",
    "                PriceList[i] = PriceList[j]\n",
    "                PriceList[j] = tmp\n",
    "    return PriceList[:lines]\n",
    "\n",
    "bigger_price(2, PriceList)"
   ]
  },
  {
   "cell_type": "code",
   "execution_count": 74,
   "metadata": {},
   "outputs": [
    {
     "data": {
      "text/plain": [
       "[{'name': 'wine', 'price': 138}, {'name': 'bread', 'price': 100}]"
      ]
     },
     "execution_count": 74,
     "metadata": {},
     "output_type": "execute_result"
    }
   ],
   "source": [
    "PriceList = [\n",
    "    {\"name\": \"bread\", \"price\": 100},\n",
    "    {\"name\": \"wine\", \"price\": 138},\n",
    "    {\"name\": \"meat\", \"price\": 15},\n",
    "    {\"name\": \"water\", \"price\": 1}\n",
    "    ]\n",
    "\n",
    "def bigger_price(limit: int, data: list) -> list:\n",
    "    return sorted(data, key=lambda x: x[\"price\"], reverse=True)[:limit]\n",
    "\n",
    "bigger_price(2, PriceList)"
   ]
  },
  {
   "cell_type": "code",
   "execution_count": 75,
   "metadata": {},
   "outputs": [
    {
     "data": {
      "text/plain": [
       "[{'name': 'wine', 'price': 138}, {'name': 'bread', 'price': 100}]"
      ]
     },
     "execution_count": 75,
     "metadata": {},
     "output_type": "execute_result"
    }
   ],
   "source": [
    "bigger_price = lambda limit, data : sorted(data, key=lambda x : x[\"price\"])[::-1][:limit]\n",
    "\n",
    "bigger_price(2, PriceList)"
   ]
  },
  {
   "cell_type": "code",
   "execution_count": null,
   "metadata": {},
   "outputs": [],
   "source": [
    "\n"
   ]
  }
 ],
 "metadata": {
  "kernelspec": {
   "display_name": "Python 3",
   "language": "python",
   "name": "python3"
  },
  "language_info": {
   "codemirror_mode": {
    "name": "ipython",
    "version": 3
   },
   "file_extension": ".py",
   "mimetype": "text/x-python",
   "name": "python",
   "nbconvert_exporter": "python",
   "pygments_lexer": "ipython3",
   "version": "3.6.4"
  }
 },
 "nbformat": 4,
 "nbformat_minor": 2
}
